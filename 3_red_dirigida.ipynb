{
 "cells": [
  {
   "cell_type": "code",
   "execution_count": 1,
   "metadata": {},
   "outputs": [],
   "source": [
    "import pandas as pd\n",
    "import numpy as np\n",
    "import seaborn as sns\n",
    "import matplotlib.pyplot as plt\n",
    "import graph_tool.all as gt\n",
    "import networkx as nx\n",
    "import os\n",
    "import cowsay\n",
    "sns.set_theme(style=\"whitegrid\")\n",
    "pwd = os.getcwd()\n",
    "my_dpi=300\n",
    "colmex = pd.read_csv(pwd + \"/1_colmex_limpio.csv\")\n",
    "red_colmex = pd.read_csv(pwd +\"/2_red_colmex_completa.csv\")"
   ]
  },
  {
   "cell_type": "code",
   "execution_count": 2,
   "metadata": {},
   "outputs": [],
   "source": [
    "# Una función que nos da el índice en Colmex al escribir el usuario\n",
    "def index_colmex(username):\n",
    "    try:\n",
    "        index = colmex['username'].loc[lambda x: x==username].index[0]\n",
    "        print(\"El index en Colmex de \" + username + \" es \" + str(index))\n",
    "    except IndexError:\n",
    "        print (\"El usuario no está en Colmex\")\n",
    "\n",
    "# Función que nos da el usuario y ID en Colmex al escribir el índice\n",
    "def username_colmex(index):\n",
    "    try:\n",
    "        id = colmex['id'].iloc[index]\n",
    "        user = colmex['username'].iloc[index]\n",
    "        print(\"El username en Colmex del índice \" + str(index) + \" es \" + user + \", ID: \" + str(id))\n",
    "    except IndexError:\n",
    "        print (\"El índice no está en Colmex\")\n",
    "# Función que nos dice cuántos following tiene un usuario\n",
    "def following(username):\n",
    "    summary = red_colmex.groupby('username').agg(following=('target', 'size')).reset_index().sort_values(['following'], ascending=False)\n",
    "    return summary.loc[summary['username'] == username]"
   ]
  },
  {
   "cell_type": "code",
   "execution_count": 3,
   "metadata": {},
   "outputs": [
    {
     "output_type": "stream",
     "name": "stdout",
     "text": [
      "El index en Colmex de tomlibrarian es 180\n"
     ]
    }
   ],
   "source": [
    "index_colmex('tomlibrarian')"
   ]
  },
  {
   "cell_type": "code",
   "execution_count": 4,
   "metadata": {},
   "outputs": [
    {
     "output_type": "stream",
     "name": "stdout",
     "text": [
      "El username en Colmex del índice 180 es tomlibrarian, ID: 113514502\n"
     ]
    }
   ],
   "source": [
    "username_colmex(180)"
   ]
  },
  {
   "cell_type": "markdown",
   "metadata": {},
   "source": [
    "## Red interna del Colmex"
   ]
  },
  {
   "cell_type": "code",
   "execution_count": 5,
   "metadata": {},
   "outputs": [],
   "source": [
    "red_colmex = red_colmex.rename(columns={'id':'source'})\n",
    "red_interna = red_colmex.loc[red_colmex['t_username'].isin(colmex.username)]"
   ]
  },
  {
   "cell_type": "code",
   "execution_count": 6,
   "metadata": {},
   "outputs": [
    {
     "output_type": "execute_result",
     "data": {
      "text/plain": [
       "(11184, 2)"
      ]
     },
     "metadata": {},
     "execution_count": 6
    }
   ],
   "source": [
    "edges_interna_dir = red_interna[['source', 'target']].reset_index(drop=True)  # Creamos red dirigida (dir)\n",
    "# Tenemos la red, en donde nos interesa conocer la dirección de los nodos para saber quienes son las personas a las que más siguen, los nodos objetivos.\n",
    "edges_interna_dir.shape"
   ]
  },
  {
   "cell_type": "code",
   "execution_count": 7,
   "metadata": {},
   "outputs": [
    {
     "output_type": "execute_result",
     "data": {
      "text/plain": [
       "         source     target\n",
       "3898  118659352  260274699"
      ],
      "text/html": "<div>\n<style scoped>\n    .dataframe tbody tr th:only-of-type {\n        vertical-align: middle;\n    }\n\n    .dataframe tbody tr th {\n        vertical-align: top;\n    }\n\n    .dataframe thead th {\n        text-align: right;\n    }\n</style>\n<table border=\"1\" class=\"dataframe\">\n  <thead>\n    <tr style=\"text-align: right;\">\n      <th></th>\n      <th>source</th>\n      <th>target</th>\n    </tr>\n  </thead>\n  <tbody>\n    <tr>\n      <th>3898</th>\n      <td>118659352</td>\n      <td>260274699</td>\n    </tr>\n  </tbody>\n</table>\n</div>"
     },
     "metadata": {},
     "execution_count": 7
    }
   ],
   "source": [
    "# Prueba Followback\n",
    "edges_interna_dir.loc[(edges_interna_dir['source'] == 118659352) & (edges_interna_dir['target'] == 260274699)]"
   ]
  },
  {
   "cell_type": "code",
   "execution_count": 8,
   "metadata": {},
   "outputs": [
    {
     "output_type": "execute_result",
     "data": {
      "text/plain": [
       "         source     target\n",
       "6898  260274699  118659352"
      ],
      "text/html": "<div>\n<style scoped>\n    .dataframe tbody tr th:only-of-type {\n        vertical-align: middle;\n    }\n\n    .dataframe tbody tr th {\n        vertical-align: top;\n    }\n\n    .dataframe thead th {\n        text-align: right;\n    }\n</style>\n<table border=\"1\" class=\"dataframe\">\n  <thead>\n    <tr style=\"text-align: right;\">\n      <th></th>\n      <th>source</th>\n      <th>target</th>\n    </tr>\n  </thead>\n  <tbody>\n    <tr>\n      <th>6898</th>\n      <td>260274699</td>\n      <td>118659352</td>\n    </tr>\n  </tbody>\n</table>\n</div>"
     },
     "metadata": {},
     "execution_count": 8
    }
   ],
   "source": [
    "# Prueba Followback\n",
    "edges_interna_dir.loc[(edges_interna_dir['source'] == 260274699) & (edges_interna_dir['target'] == 118659352)]"
   ]
  },
  {
   "cell_type": "code",
   "execution_count": null,
   "metadata": {},
   "outputs": [],
   "source": [
    "G = nx.DiGraph() # Nueva gráfica dirigida con Nx\n",
    "G.add_edges_from(edges_interna_dir.values) # Utilizar los nodos de nuestro edgelist\n",
    "G"
   ]
  },
  {
   "cell_type": "code",
   "execution_count": null,
   "metadata": {},
   "outputs": [],
   "source": [
    "print(\"Number of nodes/usuarios\", len(G))\n",
    "print(\"Number of edges/directed follows\", len(G.edges))"
   ]
  },
  {
   "cell_type": "markdown",
   "metadata": {},
   "source": [
    "## Degree distribution"
   ]
  },
  {
   "cell_type": "code",
   "execution_count": null,
   "metadata": {},
   "outputs": [],
   "source": [
    "degree = pd.DataFrame(G.degree, columns=['id', 'degree']).sort_values('degree', ascending=False)\n",
    "degree = pd.merge(degree, colmex, how='left', on=\"id\")\n",
    "degree.head(10)"
   ]
  },
  {
   "cell_type": "code",
   "execution_count": null,
   "metadata": {},
   "outputs": [],
   "source": [
    "sns.displot(degree['degree']).set(xlabel=\"Degree\", ylabel = \"Frecuencia\")\n",
    "plt.title('Degree distribution de la red dirigida Colmex.')\n",
    "plt.savefig(pwd + '/figures/' + 'degree_distribution_interna_dir.png', dpi=my_dpi,bbox_inches='tight')"
   ]
  },
  {
   "cell_type": "markdown",
   "metadata": {},
   "source": [
    "## Assortativity"
   ]
  },
  {
   "cell_type": "code",
   "execution_count": null,
   "metadata": {},
   "outputs": [],
   "source": [
    "nodes = degree.dropna()"
   ]
  },
  {
   "cell_type": "code",
   "execution_count": null,
   "metadata": {},
   "outputs": [],
   "source": [
    "att_status = dict(zip(nodes['id'], nodes['status']))\n",
    "att_center = dict(zip(nodes['id'], nodes['center']))"
   ]
  },
  {
   "cell_type": "code",
   "execution_count": null,
   "metadata": {},
   "outputs": [],
   "source": [
    "nx.set_node_attributes(G, att_status, 'status')\n",
    "nx.set_node_attributes(G, att_center, 'center')"
   ]
  },
  {
   "cell_type": "code",
   "execution_count": null,
   "metadata": {},
   "outputs": [],
   "source": [
    "# G.nodes(data=True)"
   ]
  },
  {
   "cell_type": "code",
   "execution_count": null,
   "metadata": {},
   "outputs": [],
   "source": [
    "nx.attribute_assortativity_coefficient(G, 'status')"
   ]
  },
  {
   "cell_type": "code",
   "execution_count": null,
   "metadata": {},
   "outputs": [],
   "source": [
    "nx.attribute_assortativity_coefficient(G, 'center')"
   ]
  },
  {
   "cell_type": "markdown",
   "metadata": {},
   "source": [
    "## Clustering"
   ]
  },
  {
   "cell_type": "code",
   "execution_count": null,
   "metadata": {},
   "outputs": [],
   "source": [
    "# Indivdual\n",
    "clust = nx.clustering(G)\n",
    "# Global Average clustering\n",
    "print(f'Average clustering {nx.average_clustering(G)}')"
   ]
  },
  {
   "cell_type": "markdown",
   "metadata": {},
   "source": [
    "## Central nodes"
   ]
  },
  {
   "cell_type": "code",
   "execution_count": null,
   "metadata": {},
   "outputs": [],
   "source": [
    "# El método betweenness_centrality() nos regresa un diccionario con el betweenness de cada nodo\n",
    "bet = nx.betweenness_centrality(G)\n",
    "# Ordenamos los items del diccionario por una función lambda que toma el segundo elemento\n",
    "# Items me regresa tuples 2 con llave y valor, nos sirve para iterar\n",
    "# Podría ser lambda x: x[1], reverse=True\n",
    "max_bet = sorted(bet.items(), key=lambda x: -x[1])\n",
    "bet[max_bet[0][0]]\n",
    "max_bet[0]"
   ]
  },
  {
   "cell_type": "markdown",
   "metadata": {},
   "source": [
    "## Closenness"
   ]
  },
  {
   "cell_type": "code",
   "execution_count": null,
   "metadata": {},
   "outputs": [],
   "source": [
    "# Lo mismo pero ahora para el closeness_centrality\n",
    "# Qué tan rápido podemos llegar de un nodo a todos los demás\n",
    "clos = nx.closeness_centrality(G)\n",
    "max_clos = sorted(clos.items(), key=lambda x: -x[1])\n",
    "clos[max_clos[0][0]]\n",
    "max_clos[0][1]"
   ]
  },
  {
   "cell_type": "markdown",
   "metadata": {},
   "source": [
    "## $k$-core decomposition"
   ]
  },
  {
   "cell_type": "code",
   "execution_count": null,
   "metadata": {},
   "outputs": [],
   "source": [
    "# Para nx usamos core_number y nos regresa un diccionario con personajes y el core number de c/u\n",
    "core = nx.core_number(G)\n",
    "max_k = max(core.values())\n",
    "# List comprehension\n",
    "[x for x in core if core[x]==max_k][1:10] # Nos quedamos con los nodos que están en el main-core"
   ]
  },
  {
   "cell_type": "code",
   "execution_count": null,
   "metadata": {},
   "outputs": [],
   "source": [
    "max_k"
   ]
  },
  {
   "cell_type": "markdown",
   "metadata": {},
   "source": [
    "## Drawing"
   ]
  },
  {
   "cell_type": "code",
   "execution_count": null,
   "metadata": {},
   "outputs": [],
   "source": [
    "# nx.draw_networkx(G)"
   ]
  },
  {
   "cell_type": "markdown",
   "metadata": {},
   "source": [
    "## Guardamos la red para llevarla a graph-tool"
   ]
  },
  {
   "cell_type": "code",
   "execution_count": null,
   "metadata": {},
   "outputs": [],
   "source": [
    "nx.write_graphml(G,pwd + \"/red_interna_dir.xml\")"
   ]
  },
  {
   "cell_type": "code",
   "execution_count": null,
   "metadata": {},
   "outputs": [],
   "source": [
    "# g.properties \n",
    "# labels = g.vertex_properties['_graphml_vertex_id']\n",
    "# nodes = {labels[x]: x for x in g.iter_vertices()}\n",
    "# gt.graph_draw(g)\n",
    "# largest_cc = gt.label_largest_component(g)\n",
    "# p = gt.GraphView(g, vfilt=largest_cc)\n",
    "# gt.graph_draw(p)"
   ]
  },
  {
   "cell_type": "code",
   "execution_count": null,
   "metadata": {},
   "outputs": [],
   "source": [
    "cowsay.cow(\n",
    "    ' Red interna del Colmex dirigida (follows).\\n '\n",
    "    + str(len(G)) + ' Número de nodes/usuarios.\\n '\n",
    "    + str(len(G.edges)) + ' Número de edges/follows.\\n '\n",
    "    + str(round(nx.attribute_assortativity_coefficient(G, 'status'),3)) + ' assortativity coefficient por status\\n '\n",
    "    + str(round(nx.attribute_assortativity_coefficient(G, 'center'),3)) + ' assortativity coefficient por centro\\n '\n",
    "    + str(round(nx.average_clustering(G),3)) + ' average clustering de la red interna Colmex\\n '\n",
    "    + str(max_bet[0][0]) + ' Usuario con mayor Betweenness: ' +str(round(max_bet[0][1],4)) + '\\n'\n",
    "    + str(max_clos[0][0]) + ' Usuario con mayor Closenness: ' +str(round(max_clos[0][1],4)) + '\\n'\n",
    "    + str(max_k) + ' Máximo k-core ' + '\\n'\n",
    "          )"
   ]
  },
  {
   "cell_type": "code",
   "execution_count": null,
   "metadata": {},
   "outputs": [],
   "source": []
  }
 ],
 "metadata": {
  "kernelspec": {
   "name": "python392jvsc74a57bd03e2dd8910477672eed4685ee9fb6b1c2a8f1afafbf8280a6c4500741a534cc6d",
   "display_name": "Python 3.9.2 64-bit ('gt': conda)"
  },
  "language_info": {
   "codemirror_mode": {
    "name": "ipython",
    "version": 3
   },
   "file_extension": ".py",
   "mimetype": "text/x-python",
   "name": "python",
   "nbconvert_exporter": "python",
   "pygments_lexer": "ipython3",
   "version": "3.9.2"
  }
 },
 "nbformat": 4,
 "nbformat_minor": 2
}